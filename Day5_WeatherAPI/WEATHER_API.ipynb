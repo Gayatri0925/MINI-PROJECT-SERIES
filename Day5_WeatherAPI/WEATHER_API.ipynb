{
  "nbformat": 4,
  "nbformat_minor": 0,
  "metadata": {
    "colab": {
      "provenance": []
    },
    "kernelspec": {
      "name": "python3",
      "display_name": "Python 3"
    },
    "language_info": {
      "name": "python"
    }
  },
  "cells": [
    {
      "cell_type": "code",
      "execution_count": null,
      "metadata": {
        "id": "3C3XhNvSWRmU"
      },
      "outputs": [],
      "source": [
        "import requests\n",
        "\n",
        "API_KEY = \"YOUR_API_KEY\"  # Use your active key\n",
        "BASE_URL = \"http://api.openweathermap.org/data/2.5/weather\"  # ✅ Use http, not https\n",
        "\n",
        "def get_weather(city):\n",
        "    try:\n",
        "        params = {\n",
        "            \"q\": city,\n",
        "            \"appid\": API_KEY,\n",
        "            \"units\": \"metric\"\n",
        "        }\n",
        "        response = requests.get(BASE_URL, params=params)\n",
        "        data = response.json()\n",
        "\n",
        "        if response.status_code == 200:\n",
        "            weather = {\n",
        "                \"city\": data[\"name\"],\n",
        "                \"temperature\": data[\"main\"][\"temp\"],\n",
        "                \"humidity\": data[\"main\"][\"humidity\"],\n",
        "                \"condition\": data[\"weather\"][0][\"description\"].title(),\n",
        "                \"wind\": data[\"wind\"][\"speed\"]\n",
        "            }\n",
        "            return weather\n",
        "        else:\n",
        "            return f\"⚠️ Error: {data.get('message', 'City not found')}\"\n",
        "\n",
        "    except Exception as e:\n",
        "        return f\"❌ Error: {str(e)}\"\n",
        "\n",
        "if __name__ == \"__main__\":\n",
        "    print(\"🌍 Weather Information App\")\n",
        "    city_name = input(\"Enter city name (Example: London, New York, Mumbai): \").strip()\n",
        "\n",
        "    result = get_weather(city_name)\n",
        "    print(result)\n"
      ]
    },
    {
      "cell_type": "code",
      "source": [],
      "metadata": {
        "id": "Oggiv8L5WTOj"
      },
      "execution_count": null,
      "outputs": []
    }
  ]
}