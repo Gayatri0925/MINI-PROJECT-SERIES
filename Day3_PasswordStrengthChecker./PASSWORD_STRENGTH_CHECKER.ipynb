{
  "nbformat": 4,
  "nbformat_minor": 0,
  "metadata": {
    "colab": {
      "provenance": []
    },
    "kernelspec": {
      "name": "python3",
      "display_name": "Python 3"
    },
    "language_info": {
      "name": "python"
    }
  },
  "cells": [
    {
      "cell_type": "code",
      "execution_count": null,
      "metadata": {
        "id": "pus1S0jCl7cm"
      },
      "outputs": [],
      "source": [
        "import re\n",
        "\n",
        "def check_password_strength(password):\n",
        "    suggestions = []\n",
        "    strength_points = 0\n",
        "\n",
        "    # Check length\n",
        "    if len(password) >= 8:\n",
        "        strength_points += 1\n",
        "    else:\n",
        "        suggestions.append(\"Increase password length to at least 8 characters.\")\n",
        "\n",
        "    # Check upper and lower case\n",
        "    if re.search(\"[a-z]\", password) and re.search(\"[A-Z]\", password):\n",
        "        strength_points += 1\n",
        "    else:\n",
        "        suggestions.append(\"Use both UPPERCASE and lowercase letters.\")\n",
        "\n",
        "    # Check numbers\n",
        "    if re.search(\"[0-9]\", password):\n",
        "        strength_points += 1\n",
        "    else:\n",
        "        suggestions.append(\"Add at least one number (0-9).\")\n",
        "\n",
        "    # Check special characters\n",
        "    if re.search(\"[!@#$%^&*(),.?\\\":{}|<>]\", password):\n",
        "        strength_points += 1\n",
        "    else:\n",
        "        suggestions.append(\"Include special characters like @, #, $, %, &.\")\n",
        "\n",
        "    # Determine strength level\n",
        "    if strength_points == 4:\n",
        "        feedback = \"✅ Strong Password\"\n",
        "    elif strength_points == 3:\n",
        "        feedback = \"🟡 Medium Password\"\n",
        "    else:\n",
        "        feedback = \"🔴 Weak Password\"\n",
        "\n",
        "    return feedback, suggestions\n",
        "\n",
        "\n",
        "# ----------- Main Program -----------\n",
        "print(\"🔐 Password Strength Checker\\n\")\n",
        "password = input(\"Enter a password to evaluate: \")\n",
        "\n",
        "feedback, tips = check_password_strength(password)\n",
        "\n",
        "print(\"\\nResult:\", feedback)\n",
        "\n",
        "if feedback != \"✅ Strong Password\":\n",
        "    print(\"\\n💡 Suggestions to improve security:\")\n",
        "    for tip in tips:\n",
        "        print(f\"- {tip}\")\n",
        "else:\n",
        "    print(\"\\n✅ Great! Your password looks strong and secure. 👍\")\n"
      ]
    },
    {
      "cell_type": "code",
      "source": [],
      "metadata": {
        "id": "YauegRthmAv2"
      },
      "execution_count": null,
      "outputs": []
    }
  ]
}