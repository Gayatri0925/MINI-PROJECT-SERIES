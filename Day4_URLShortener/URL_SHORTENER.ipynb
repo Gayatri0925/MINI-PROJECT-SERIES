{
  "nbformat": 4,
  "nbformat_minor": 0,
  "metadata": {
    "colab": {
      "provenance": []
    },
    "kernelspec": {
      "name": "python3",
      "display_name": "Python 3"
    },
    "language_info": {
      "name": "python"
    }
  },
  "cells": [
    {
      "cell_type": "code",
      "execution_count": 3,
      "metadata": {
        "colab": {
          "base_uri": "https://localhost:8080/"
        },
        "id": "wLf1EL-Ir3vm",
        "outputId": "6a06a409-1f98-42de-9aac-c557e5596b79"
      },
      "outputs": [
        {
          "output_type": "stream",
          "name": "stdout",
          "text": [
            "Requirement already satisfied: pyshorteners in /usr/local/lib/python3.12/dist-packages (1.0.1)\n",
            "Requirement already satisfied: requests in /usr/local/lib/python3.12/dist-packages (from pyshorteners) (2.32.4)\n",
            "Requirement already satisfied: charset_normalizer<4,>=2 in /usr/local/lib/python3.12/dist-packages (from requests->pyshorteners) (3.4.3)\n",
            "Requirement already satisfied: idna<4,>=2.5 in /usr/local/lib/python3.12/dist-packages (from requests->pyshorteners) (3.10)\n",
            "Requirement already satisfied: urllib3<3,>=1.21.1 in /usr/local/lib/python3.12/dist-packages (from requests->pyshorteners) (2.5.0)\n",
            "Requirement already satisfied: certifi>=2017.4.17 in /usr/local/lib/python3.12/dist-packages (from requests->pyshorteners) (2025.10.5)\n",
            "🔗 URL Shortener Tool\n",
            "Enter a URL to shorten: https://www.linkedin.com\n",
            "✅ Shortened URL: https://tinyurl.com/bzxdbuw\n"
          ]
        }
      ],
      "source": [
        "!pip install pyshorteners\n",
        "import pyshorteners\n",
        "\n",
        "def shorten_url(long_url):\n",
        "    try:\n",
        "        shortener = pyshorteners.Shortener()\n",
        "        short_url = shortener.tinyurl.short(long_url)\n",
        "        return short_url\n",
        "    except Exception as e:\n",
        "        return f\"Error: {str(e)}\"\n",
        "\n",
        "if __name__ == \"__main__\":\n",
        "    print(\"🔗 URL Shortener Tool\")\n",
        "    long_url = input(\"Enter a URL to shorten: \")\n",
        "\n",
        "    if long_url.startswith(\"http\"):\n",
        "        result = shorten_url(long_url)\n",
        "        print(f\"✅ Shortened URL: {result}\")\n",
        "    else:\n",
        "        print(\"⚠️ Please enter a valid URL starting with http or https.\")\n"
      ]
    },
    {
      "cell_type": "code",
      "source": [],
      "metadata": {
        "id": "eO0_Y3czsdNN"
      },
      "execution_count": null,
      "outputs": []
    }
  ]
}