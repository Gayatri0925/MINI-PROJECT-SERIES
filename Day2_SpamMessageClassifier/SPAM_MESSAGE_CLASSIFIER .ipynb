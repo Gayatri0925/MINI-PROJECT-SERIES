{
  "nbformat": 4,
  "nbformat_minor": 0,
  "metadata": {
    "colab": {
      "provenance": []
    },
    "kernelspec": {
      "name": "python3",
      "display_name": "Python 3"
    },
    "language_info": {
      "name": "python"
    }
  },
  "cells": [
    {
      "cell_type": "code",
      "execution_count": 2,
      "metadata": {
        "colab": {
          "base_uri": "https://localhost:8080/",
          "height": 799
        },
        "id": "v7l0C28FQo2g",
        "outputId": "a36cf368-393d-48c5-c188-908e3dab324e"
      },
      "outputs": [
        {
          "output_type": "stream",
          "name": "stdout",
          "text": [
            "✅ Model Accuracy: 0.9686\n",
            "\n",
            "📊 Classification Report:\n",
            "               precision    recall  f1-score   support\n",
            "\n",
            "           0       0.96      1.00      0.98       965\n",
            "           1       1.00      0.77      0.87       150\n",
            "\n",
            "    accuracy                           0.97      1115\n",
            "   macro avg       0.98      0.88      0.93      1115\n",
            "weighted avg       0.97      0.97      0.97      1115\n",
            "\n"
          ]
        },
        {
          "output_type": "display_data",
          "data": {
            "text/plain": [
              "<Figure size 600x500 with 2 Axes>"
            ],
            "image/png": "[encoded data removed]"
          },
          "metadata": {}
        },
        {
          "output_type": "stream",
          "name": "stdout",
          "text": [
            "\n",
            "🔍 Example Predictions:\n",
            "Message: \"Congratulations! You won a free lottery, claim now!!!\" -> Prediction: ⚠️ Spam!\n",
            "Message: \"Hey, are we still meeting for lunch today?\" -> Prediction: ✅ Not Spam\n",
            "Message: \"URGENT! Your account has been suspended, verify now\" -> Prediction: ⚠️ Spam!\n",
            "Message: \"Can you send me the notes from yesterday?\" -> Prediction: ✅ Not Spam\n"
          ]
        }
      ],
      "source": [
        "\"\"\"\n",
        "Mini Project Series - Day 2\n",
        "Spam Message Classifier using Machine Learning\n",
        "Author: K. Gayatri\n",
        "GitHub: https://github.com/Gayatri0925/MINI-PROJECT-SERIES\n",
        "Description: Classify SMS messages as Spam or Not Spam using Naive Bayes\n",
        "\"\"\"\n",
        "\n",
        "# -------------------------------\n",
        "# Step 1: Import Libraries\n",
        "# -------------------------------\n",
        "import pandas as pd\n",
        "from sklearn.model_selection import train_test_split\n",
        "from sklearn.feature_extraction.text import TfidfVectorizer\n",
        "from sklearn.naive_bayes import MultinomialNB\n",
        "from sklearn.metrics import accuracy_score, classification_report, confusion_matrix\n",
        "import string\n",
        "import re\n",
        "import seaborn as sns\n",
        "import matplotlib.pyplot as plt\n",
        "import pickle\n",
        "\n",
        "# -------------------------------\n",
        "# Step 2: Load Dataset\n",
        "# -------------------------------\n",
        "# Handle different encodings to avoid errors\n",
        "try:\n",
        "    df = pd.read_csv(\"spam.csv\", encoding='utf-8')\n",
        "except UnicodeDecodeError:\n",
        "    df = pd.read_csv(\"spam.csv\", encoding='latin-1')\n",
        "\n",
        "# Select relevant columns\n",
        "df = df[['v1', 'v2']]\n",
        "df.columns = ['label', 'message']\n",
        "\n",
        "# -------------------------------\n",
        "# Step 3: Preprocess Text\n",
        "# -------------------------------\n",
        "def clean_text(text):\n",
        "    \"\"\"\n",
        "    Cleans input text by:\n",
        "    - converting to lowercase\n",
        "    - removing numbers\n",
        "    - removing punctuation\n",
        "    - stripping whitespace\n",
        "    \"\"\"\n",
        "    text = text.lower()\n",
        "    text = re.sub(r'\\d+', '', text)\n",
        "    text = text.translate(str.maketrans('', '', string.punctuation))\n",
        "    text = text.strip()\n",
        "    return text\n",
        "\n",
        "df['message'] = df['message'].apply(clean_text)\n",
        "\n",
        "# Map labels: 0 = Not Spam (ham), 1 = Spam\n",
        "df['label'] = df['label'].map({'ham': 0, 'spam': 1})\n",
        "\n",
        "# -------------------------------\n",
        "# Step 4: Train-Test Split\n",
        "# -------------------------------\n",
        "X_train, X_test, y_train, y_test = train_test_split(\n",
        "    df['message'], df['label'], test_size=0.2, random_state=42\n",
        ")\n",
        "\n",
        "# -------------------------------\n",
        "# Step 5: Feature Extraction (TF-IDF)\n",
        "# -------------------------------\n",
        "vectorizer = TfidfVectorizer(stop_words='english')\n",
        "X_train_vec = vectorizer.fit_transform(X_train)\n",
        "X_test_vec = vectorizer.transform(X_test)\n",
        "\n",
        "# -------------------------------\n",
        "# Step 6: Model Training\n",
        "# -------------------------------\n",
        "model = MultinomialNB()\n",
        "model.fit(X_train_vec, y_train)\n",
        "\n",
        "# -------------------------------\n",
        "# Step 7: Model Evaluation\n",
        "# -------------------------------\n",
        "y_pred = model.predict(X_test_vec)\n",
        "\n",
        "print(\"✅ Model Accuracy:\", round(accuracy_score(y_test, y_pred), 4))\n",
        "print(\"\\n📊 Classification Report:\\n\", classification_report(y_test, y_pred))\n",
        "\n",
        "# Confusion Matrix Visualization\n",
        "cm = confusion_matrix(y_test, y_pred)\n",
        "plt.figure(figsize=(6,5))\n",
        "sns.heatmap(cm, annot=True, fmt='d', cmap='Blues', xticklabels=['Not Spam','Spam'], yticklabels=['Not Spam','Spam'])\n",
        "plt.xlabel('Predicted')\n",
        "plt.ylabel('Actual')\n",
        "plt.title('Confusion Matrix')\n",
        "plt.show()\n",
        "\n",
        "# -------------------------------\n",
        "# Step 8: Predict Custom Messages\n",
        "# -------------------------------\n",
        "def predict_message(message):\n",
        "    \"\"\"\n",
        "    Predicts whether a message is Spam or Not Spam.\n",
        "    Returns a clear string with an icon.\n",
        "    \"\"\"\n",
        "    cleaned = clean_text(message)\n",
        "    vec = vectorizer.transform([cleaned])\n",
        "    pred = model.predict(vec)[0]\n",
        "    return \"✅ Not Spam\" if pred == 0 else \"⚠️ Spam!\"\n",
        "\n",
        "# Test examples with clarity\n",
        "test_messages = [\n",
        "    \"Congratulations! You won a free lottery, claim now!!!\",\n",
        "    \"Hey, are we still meeting for lunch today?\",\n",
        "    \"URGENT! Your account has been suspended, verify now\",\n",
        "    \"Can you send me the notes from yesterday?\",\n",
        "]\n",
        "\n",
        "print(\"\\n🔍 Example Predictions:\")\n",
        "for msg in test_messages:\n",
        "    print(f\"Message: \\\"{msg}\\\" -> Prediction: {predict_message(msg)}\")\n",
        "\n",
        "# -------------------------------\n",
        "# Step 9: Save Model (Optional)\n",
        "# -------------------------------\n",
        "with open(\"spam_classifier_model.pkl\", \"wb\") as f:\n",
        "    pickle.dump((vectorizer, model), f)\n"
      ]
    },
    {
      "cell_type": "code",
      "source": [],
      "metadata": {
        "id": "oZWm6GBNQu6C"
      },
      "execution_count": null,
      "outputs": []
    }
  ]
}